{
 "cells": [
  {
   "cell_type": "code",
   "execution_count": null,
   "id": "0af572a1",
   "metadata": {},
   "outputs": [],
   "source": [
    "import cv2\n",
    "from ultralytics import YOLO"
   ]
  },
  {
   "cell_type": "code",
   "execution_count": null,
   "id": "0d038923",
   "metadata": {},
   "outputs": [],
   "source": [
    "model = YOLO('yolo11n.pt')"
   ]
  },
  {
   "cell_type": "code",
   "execution_count": null,
   "id": "25b830c9",
   "metadata": {},
   "outputs": [],
   "source": [
    "cap = cv2.VideoCapture(0)\n",
    "while True:\n",
    "\n",
    "    cont, frame = cap.read()\n",
    "    \n",
    "    if not cont:\n",
    "        print('video samapt')\n",
    "        break\n",
    "    \n",
    "    results = model(frame)\n",
    "    \n",
    "    for r in results:\n",
    "        class_names = r.names\n",
    "        for box in r.boxes:\n",
    "            x1,y1,x2,y2 = map(int,box.xyxy[0].tolist())\n",
    "            confidence = float(box.conf[0])\n",
    "            class1 = int(box.cls[0])\n",
    "            label = box.cls[0]\n",
    "            detected_class = class_names[class1]\n",
    "            if detected_class.lower() == 'person':\n",
    "                label = f\"{confidence:.2f}\"\n",
    "                cv2.rectangle(frame,(x1,y1),(x2,y2),(255,0,155),1)\n",
    "                cv2.putText(frame,label,(x1-10,y1-10),cv2.FONT_HERSHEY_COMPLEX,0.5,(255,23,124),1)\n",
    "            else:\n",
    "                pass\n",
    "    \n",
    "    cv2.imshow('detected image',frame)\n",
    "\n",
    "    if cv2.waitKey(1) & 0xFF == ord('q') :\n",
    "        break\n",
    "\n",
    "cap.release()\n",
    "cv2.destroyAllWindows()\n",
    "        \n",
    "    \n",
    "    "
   ]
  }
 ],
 "metadata": {
  "kernelspec": {
   "display_name": "venv",
   "language": "python",
   "name": "python3"
  },
  "language_info": {
   "codemirror_mode": {
    "name": "ipython",
    "version": 3
   },
   "file_extension": ".py",
   "mimetype": "text/x-python",
   "name": "python",
   "nbconvert_exporter": "python",
   "pygments_lexer": "ipython3",
   "version": "3.11.9"
  }
 },
 "nbformat": 4,
 "nbformat_minor": 5
}
